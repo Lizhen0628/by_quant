{
 "cells": [
  {
   "cell_type": "markdown",
   "metadata": {},
   "source": [
    "## 获取日K数据"
   ]
  },
  {
   "cell_type": "code",
   "execution_count": 3,
   "metadata": {},
   "outputs": [
    {
     "data": {
      "text/html": [
       "<div>\n",
       "<style scoped>\n",
       "    .dataframe tbody tr th:only-of-type {\n",
       "        vertical-align: middle;\n",
       "    }\n",
       "\n",
       "    .dataframe tbody tr th {\n",
       "        vertical-align: top;\n",
       "    }\n",
       "\n",
       "    .dataframe thead th {\n",
       "        text-align: right;\n",
       "    }\n",
       "</style>\n",
       "<table border=\"1\" class=\"dataframe\">\n",
       "  <thead>\n",
       "    <tr style=\"text-align: right;\">\n",
       "      <th></th>\n",
       "      <th>timestamp</th>\n",
       "      <th>datetime</th>\n",
       "      <th>symbol</th>\n",
       "      <th>name</th>\n",
       "      <th>open</th>\n",
       "      <th>high</th>\n",
       "      <th>low</th>\n",
       "      <th>close</th>\n",
       "      <th>preClose</th>\n",
       "      <th>volume</th>\n",
       "      <th>amount</th>\n",
       "      <th>suspendFlag</th>\n",
       "    </tr>\n",
       "  </thead>\n",
       "  <tbody>\n",
       "    <tr>\n",
       "      <th>4844879</th>\n",
       "      <td>1640880000000</td>\n",
       "      <td>2021-12-31 00:00:00</td>\n",
       "      <td>002385.SZ</td>\n",
       "      <td>大北农</td>\n",
       "      <td>10.33</td>\n",
       "      <td>10.71</td>\n",
       "      <td>10.17</td>\n",
       "      <td>10.49</td>\n",
       "      <td>10.35</td>\n",
       "      <td>1074068</td>\n",
       "      <td>1.127795e+09</td>\n",
       "      <td>0</td>\n",
       "    </tr>\n",
       "    <tr>\n",
       "      <th>5143457</th>\n",
       "      <td>1733414400000</td>\n",
       "      <td>2024-12-06 00:00:00</td>\n",
       "      <td>002385.SZ</td>\n",
       "      <td>大北农</td>\n",
       "      <td>4.57</td>\n",
       "      <td>4.62</td>\n",
       "      <td>4.53</td>\n",
       "      <td>4.61</td>\n",
       "      <td>4.55</td>\n",
       "      <td>481593</td>\n",
       "      <td>2.209176e+08</td>\n",
       "      <td>0</td>\n",
       "    </tr>\n",
       "    <tr>\n",
       "      <th>5143458</th>\n",
       "      <td>1733673600000</td>\n",
       "      <td>2024-12-09 00:00:00</td>\n",
       "      <td>002385.SZ</td>\n",
       "      <td>大北农</td>\n",
       "      <td>4.64</td>\n",
       "      <td>4.67</td>\n",
       "      <td>4.55</td>\n",
       "      <td>4.58</td>\n",
       "      <td>4.61</td>\n",
       "      <td>544267</td>\n",
       "      <td>2.507797e+08</td>\n",
       "      <td>0</td>\n",
       "    </tr>\n",
       "  </tbody>\n",
       "</table>\n",
       "</div>"
      ],
      "text/plain": [
       "             timestamp             datetime     symbol name   open   high  \\\n",
       "4844879  1640880000000  2021-12-31 00:00:00  002385.SZ  大北农  10.33  10.71   \n",
       "5143457  1733414400000  2024-12-06 00:00:00  002385.SZ  大北农   4.57   4.62   \n",
       "5143458  1733673600000  2024-12-09 00:00:00  002385.SZ  大北农   4.64   4.67   \n",
       "\n",
       "           low  close  preClose   volume        amount  suspendFlag  \n",
       "4844879  10.17  10.49     10.35  1074068  1.127795e+09            0  \n",
       "5143457   4.53   4.61      4.55   481593  2.209176e+08            0  \n",
       "5143458   4.55   4.58      4.61   544267  2.507797e+08            0  "
      ]
     },
     "execution_count": 3,
     "metadata": {},
     "output_type": "execute_result"
    }
   ],
   "source": [
    "from utils import get_daily_data,get_local_daily_data,get_local_adjustment_data\n",
    "\n",
    "local_daily_pd = get_local_daily_data()\n",
    "local_adjustment_pd = get_local_adjustment_data()\n",
    "data_pd, adjustment_pd = get_daily_data(\"002385\", local_daily_pd, local_adjustment_pd)\n",
    "\n",
    "data_pd.tail(3)"
   ]
  },
  {
   "cell_type": "markdown",
   "metadata": {},
   "source": [
    "## 获取前复权数据"
   ]
  },
  {
   "cell_type": "code",
   "execution_count": 5,
   "metadata": {},
   "outputs": [
    {
     "data": {
      "text/html": [
       "<div>\n",
       "<style scoped>\n",
       "    .dataframe tbody tr th:only-of-type {\n",
       "        vertical-align: middle;\n",
       "    }\n",
       "\n",
       "    .dataframe tbody tr th {\n",
       "        vertical-align: top;\n",
       "    }\n",
       "\n",
       "    .dataframe thead th {\n",
       "        text-align: right;\n",
       "    }\n",
       "</style>\n",
       "<table border=\"1\" class=\"dataframe\">\n",
       "  <thead>\n",
       "    <tr style=\"text-align: right;\">\n",
       "      <th></th>\n",
       "      <th>datetime</th>\n",
       "      <th>symbol</th>\n",
       "      <th>name</th>\n",
       "      <th>open</th>\n",
       "      <th>high</th>\n",
       "      <th>low</th>\n",
       "      <th>close</th>\n",
       "      <th>volume</th>\n",
       "      <th>amount</th>\n",
       "      <th>suspendFlag</th>\n",
       "    </tr>\n",
       "  </thead>\n",
       "  <tbody>\n",
       "    <tr>\n",
       "      <th>223</th>\n",
       "      <td>2024-12-05 00:00:00</td>\n",
       "      <td>002385.SZ</td>\n",
       "      <td>大北农</td>\n",
       "      <td>4.56</td>\n",
       "      <td>4.59</td>\n",
       "      <td>4.52</td>\n",
       "      <td>4.55</td>\n",
       "      <td>368190</td>\n",
       "      <td>169554993.0</td>\n",
       "      <td>0</td>\n",
       "    </tr>\n",
       "    <tr>\n",
       "      <th>951</th>\n",
       "      <td>2024-12-06 00:00:00</td>\n",
       "      <td>002385.SZ</td>\n",
       "      <td>大北农</td>\n",
       "      <td>4.57</td>\n",
       "      <td>4.62</td>\n",
       "      <td>4.53</td>\n",
       "      <td>4.61</td>\n",
       "      <td>481593</td>\n",
       "      <td>220917578.0</td>\n",
       "      <td>0</td>\n",
       "    </tr>\n",
       "    <tr>\n",
       "      <th>952</th>\n",
       "      <td>2024-12-09 00:00:00</td>\n",
       "      <td>002385.SZ</td>\n",
       "      <td>大北农</td>\n",
       "      <td>4.64</td>\n",
       "      <td>4.67</td>\n",
       "      <td>4.55</td>\n",
       "      <td>4.58</td>\n",
       "      <td>544267</td>\n",
       "      <td>250779674.0</td>\n",
       "      <td>0</td>\n",
       "    </tr>\n",
       "  </tbody>\n",
       "</table>\n",
       "</div>"
      ],
      "text/plain": [
       "                datetime     symbol name  open  high   low  close  volume  \\\n",
       "223  2024-12-05 00:00:00  002385.SZ  大北农  4.56  4.59  4.52   4.55  368190   \n",
       "951  2024-12-06 00:00:00  002385.SZ  大北农  4.57  4.62  4.53   4.61  481593   \n",
       "952  2024-12-09 00:00:00  002385.SZ  大北农  4.64  4.67  4.55   4.58  544267   \n",
       "\n",
       "          amount  suspendFlag  \n",
       "223  169554993.0            0  \n",
       "951  220917578.0            0  \n",
       "952  250779674.0            0  "
      ]
     },
     "execution_count": 5,
     "metadata": {},
     "output_type": "execute_result"
    }
   ],
   "source": [
    "from utils import get_forward_data,get_local_daily_data,get_local_adjustment_data\n",
    "\n",
    "local_daily_pd = get_local_daily_data()\n",
    "local_adjustment_pd = get_local_adjustment_data()\n",
    "data_pd = get_forward_data(\"002385\", local_daily_pd, local_adjustment_pd)\n",
    "\n",
    "data_pd.tail(3)"
   ]
  },
  {
   "cell_type": "markdown",
   "metadata": {},
   "source": [
    "## 计算指标"
   ]
  },
  {
   "cell_type": "markdown",
   "metadata": {},
   "source": [
    "计算指标放在`indicator`目录下"
   ]
  },
  {
   "cell_type": "code",
   "execution_count": 6,
   "metadata": {},
   "outputs": [
    {
     "data": {
      "text/html": [
       "<div>\n",
       "<style scoped>\n",
       "    .dataframe tbody tr th:only-of-type {\n",
       "        vertical-align: middle;\n",
       "    }\n",
       "\n",
       "    .dataframe tbody tr th {\n",
       "        vertical-align: top;\n",
       "    }\n",
       "\n",
       "    .dataframe thead th {\n",
       "        text-align: right;\n",
       "    }\n",
       "</style>\n",
       "<table border=\"1\" class=\"dataframe\">\n",
       "  <thead>\n",
       "    <tr style=\"text-align: right;\">\n",
       "      <th></th>\n",
       "      <th>datetime</th>\n",
       "      <th>symbol</th>\n",
       "      <th>name</th>\n",
       "      <th>open</th>\n",
       "      <th>high</th>\n",
       "      <th>low</th>\n",
       "      <th>close</th>\n",
       "      <th>volume</th>\n",
       "      <th>amount</th>\n",
       "      <th>macd</th>\n",
       "      <th>macd_dea</th>\n",
       "      <th>macd_diff</th>\n",
       "    </tr>\n",
       "  </thead>\n",
       "  <tbody>\n",
       "    <tr>\n",
       "      <th>223</th>\n",
       "      <td>2024-12-05 00:00:00</td>\n",
       "      <td>002385.SZ</td>\n",
       "      <td>大北农</td>\n",
       "      <td>4.56</td>\n",
       "      <td>4.59</td>\n",
       "      <td>4.52</td>\n",
       "      <td>4.55</td>\n",
       "      <td>368190</td>\n",
       "      <td>169554993.0</td>\n",
       "      <td>0.005</td>\n",
       "      <td>0.010</td>\n",
       "      <td>0.012</td>\n",
       "    </tr>\n",
       "    <tr>\n",
       "      <th>951</th>\n",
       "      <td>2024-12-06 00:00:00</td>\n",
       "      <td>002385.SZ</td>\n",
       "      <td>大北农</td>\n",
       "      <td>4.57</td>\n",
       "      <td>4.62</td>\n",
       "      <td>4.53</td>\n",
       "      <td>4.61</td>\n",
       "      <td>481593</td>\n",
       "      <td>220917578.0</td>\n",
       "      <td>0.011</td>\n",
       "      <td>0.011</td>\n",
       "      <td>0.016</td>\n",
       "    </tr>\n",
       "    <tr>\n",
       "      <th>952</th>\n",
       "      <td>2024-12-09 00:00:00</td>\n",
       "      <td>002385.SZ</td>\n",
       "      <td>大北农</td>\n",
       "      <td>4.64</td>\n",
       "      <td>4.67</td>\n",
       "      <td>4.55</td>\n",
       "      <td>4.58</td>\n",
       "      <td>544267</td>\n",
       "      <td>250779674.0</td>\n",
       "      <td>0.010</td>\n",
       "      <td>0.012</td>\n",
       "      <td>0.017</td>\n",
       "    </tr>\n",
       "  </tbody>\n",
       "</table>\n",
       "</div>"
      ],
      "text/plain": [
       "                datetime     symbol name  open  high   low  close  volume  \\\n",
       "223  2024-12-05 00:00:00  002385.SZ  大北农  4.56  4.59  4.52   4.55  368190   \n",
       "951  2024-12-06 00:00:00  002385.SZ  大北农  4.57  4.62  4.53   4.61  481593   \n",
       "952  2024-12-09 00:00:00  002385.SZ  大北农  4.64  4.67  4.55   4.58  544267   \n",
       "\n",
       "          amount   macd  macd_dea  macd_diff  \n",
       "223  169554993.0  0.005     0.010      0.012  \n",
       "951  220917578.0  0.011     0.011      0.016  \n",
       "952  250779674.0  0.010     0.012      0.017  "
      ]
     },
     "execution_count": 6,
     "metadata": {},
     "output_type": "execute_result"
    }
   ],
   "source": [
    "from utils import get_forward_data,get_local_daily_data,get_local_adjustment_data\n",
    "from indicator import macd\n",
    "\n",
    "local_daily_pd = get_local_daily_data()\n",
    "local_adjustment_pd = get_local_adjustment_data()\n",
    "data_pd = get_forward_data(\"002385\", local_daily_pd, local_adjustment_pd)\n",
    "\n",
    "# 删除停牌数据\n",
    "data_pd = data_pd[data_pd['suspendFlag'] == 0]\n",
    "data_pd.drop(columns='suspendFlag', inplace=True)\n",
    "\n",
    "data_pd = macd(data_pd)\n",
    "\n",
    "data_pd.tail(3)"
   ]
  },
  {
   "cell_type": "markdown",
   "metadata": {},
   "source": [
    "## 回测"
   ]
  },
  {
   "cell_type": "code",
   "execution_count": null,
   "metadata": {},
   "outputs": [
    {
     "data": {
      "text/html": [
       "<div>\n",
       "<style scoped>\n",
       "    .dataframe tbody tr th:only-of-type {\n",
       "        vertical-align: middle;\n",
       "    }\n",
       "\n",
       "    .dataframe tbody tr th {\n",
       "        vertical-align: top;\n",
       "    }\n",
       "\n",
       "    .dataframe thead th {\n",
       "        text-align: right;\n",
       "    }\n",
       "</style>\n",
       "<table border=\"1\" class=\"dataframe\">\n",
       "  <thead>\n",
       "    <tr style=\"text-align: right;\">\n",
       "      <th></th>\n",
       "      <th>datetime</th>\n",
       "      <th>symbol</th>\n",
       "      <th>name</th>\n",
       "      <th>open</th>\n",
       "      <th>high</th>\n",
       "      <th>low</th>\n",
       "      <th>close</th>\n",
       "      <th>volume</th>\n",
       "      <th>amount</th>\n",
       "      <th>macd</th>\n",
       "      <th>macd_dea</th>\n",
       "      <th>macd_diff</th>\n",
       "      <th>rsi</th>\n",
       "    </tr>\n",
       "  </thead>\n",
       "  <tbody>\n",
       "    <tr>\n",
       "      <th>223</th>\n",
       "      <td>2024-12-05 00:00:00</td>\n",
       "      <td>002385.SZ</td>\n",
       "      <td>大北农</td>\n",
       "      <td>4.56</td>\n",
       "      <td>4.59</td>\n",
       "      <td>4.52</td>\n",
       "      <td>4.55</td>\n",
       "      <td>368190</td>\n",
       "      <td>169554993.0</td>\n",
       "      <td>0.005</td>\n",
       "      <td>0.010</td>\n",
       "      <td>0.012</td>\n",
       "      <td>51.291</td>\n",
       "    </tr>\n",
       "    <tr>\n",
       "      <th>951</th>\n",
       "      <td>2024-12-06 00:00:00</td>\n",
       "      <td>002385.SZ</td>\n",
       "      <td>大北农</td>\n",
       "      <td>4.57</td>\n",
       "      <td>4.62</td>\n",
       "      <td>4.53</td>\n",
       "      <td>4.61</td>\n",
       "      <td>481593</td>\n",
       "      <td>220917578.0</td>\n",
       "      <td>0.011</td>\n",
       "      <td>0.011</td>\n",
       "      <td>0.016</td>\n",
       "      <td>54.507</td>\n",
       "    </tr>\n",
       "    <tr>\n",
       "      <th>952</th>\n",
       "      <td>2024-12-09 00:00:00</td>\n",
       "      <td>002385.SZ</td>\n",
       "      <td>大北农</td>\n",
       "      <td>4.64</td>\n",
       "      <td>4.67</td>\n",
       "      <td>4.55</td>\n",
       "      <td>4.58</td>\n",
       "      <td>544267</td>\n",
       "      <td>250779674.0</td>\n",
       "      <td>0.010</td>\n",
       "      <td>0.012</td>\n",
       "      <td>0.017</td>\n",
       "      <td>52.635</td>\n",
       "    </tr>\n",
       "  </tbody>\n",
       "</table>\n",
       "</div>"
      ],
      "text/plain": [
       "                datetime     symbol name  open  high   low  close  volume  \\\n",
       "223  2024-12-05 00:00:00  002385.SZ  大北农  4.56  4.59  4.52   4.55  368190   \n",
       "951  2024-12-06 00:00:00  002385.SZ  大北农  4.57  4.62  4.53   4.61  481593   \n",
       "952  2024-12-09 00:00:00  002385.SZ  大北农  4.64  4.67  4.55   4.58  544267   \n",
       "\n",
       "          amount   macd  macd_dea  macd_diff     rsi  \n",
       "223  169554993.0  0.005     0.010      0.012  51.291  \n",
       "951  220917578.0  0.011     0.011      0.016  54.507  \n",
       "952  250779674.0  0.010     0.012      0.017  52.635  "
      ]
     },
     "execution_count": 1,
     "metadata": {},
     "output_type": "execute_result"
    }
   ],
   "source": [
    "from utils import get_forward_data,get_local_daily_data,get_local_adjustment_data\n",
    "from indicator import macd,rsi\n",
    "import pandas as pd\n",
    "\n",
    "local_daily_pd = get_local_daily_data()\n",
    "local_adjustment_pd = get_local_adjustment_data()\n",
    "data_pd = get_forward_data(\"002385\", local_daily_pd, local_adjustment_pd)\n",
    "\n",
    "# 删除停牌数据\n",
    "data_pd = data_pd[data_pd['suspendFlag'] == 0]\n",
    "data_pd.drop(columns='suspendFlag', inplace=True)\n",
    "\n",
    "data_pd = macd(data_pd)\n",
    "data_pd = rsi(data_pd)\n",
    "\n",
    "data_pd.tail(3)"
   ]
  },
  {
   "cell_type": "markdown",
   "metadata": {},
   "source": [
    "使用pybroker进行回测\n",
    "\n",
    "[文档](https://www.pybroker.com/zh-cn/latest/install.html)"
   ]
  },
  {
   "cell_type": "code",
   "execution_count": 12,
   "metadata": {},
   "outputs": [],
   "source": [
    "import pybroker\n",
    "from pybroker import Strategy,StrategyConfig"
   ]
  },
  {
   "cell_type": "code",
   "execution_count": 13,
   "metadata": {},
   "outputs": [],
   "source": [
    "data_pd['date'] = pd.to_datetime(data_pd['datetime'])\n",
    "\n",
    "# 注册指标到pybroker\n",
    "pybroker.register_columns('rsi')\n",
    "\n",
    "# 初始化资金:50000元\n",
    "config = StrategyConfig(initial_cash=50000)\n",
    "\n",
    "strategy = Strategy(data_pd, '4/1/2021', '09/12/2024',config=config)"
   ]
  },
  {
   "cell_type": "code",
   "execution_count": 15,
   "metadata": {},
   "outputs": [],
   "source": [
    "# 定义策略\n",
    "def buy_low_sell_high_rsi(ctx):\n",
    "    pos = ctx.long_pos()\n",
    "    if not pos and ctx.rsi[-1] < 30:\n",
    "        ctx.buy_shares = 100\n",
    "    elif pos and ctx.rsi[-1] > 70:\n",
    "        ctx.sell_shares = pos.shares\n",
    "\n",
    "# 注册策略到pybroker\n",
    "strategy.add_execution(buy_low_sell_high_rsi, ['002385.SZ'])"
   ]
  },
  {
   "cell_type": "code",
   "execution_count": null,
   "metadata": {},
   "outputs": [
    {
     "name": "stdout",
     "output_type": "stream",
     "text": [
      "Backtesting: 2021-04-01 00:00:00 to 2024-09-12 00:00:00\n",
      "\n",
      "Test split: 2021-04-01 00:00:00 to 2024-09-12 00:00:00\n"
     ]
    },
    {
     "name": "stderr",
     "output_type": "stream",
     "text": [
      "  0% (0 of 840) |                        | Elapsed Time: 0:00:00 ETA:  --:--:--\n",
      "100% (840 of 840) |######################| Elapsed Time: 0:00:00 Time:  0:00:00\n"
     ]
    },
    {
     "name": "stdout",
     "output_type": "stream",
     "text": [
      "\n",
      "Finished backtest: 0:00:01\n"
     ]
    }
   ],
   "source": [
    "# 回测\n",
    "result = strategy.backtest()"
   ]
  },
  {
   "cell_type": "code",
   "execution_count": 21,
   "metadata": {},
   "outputs": [
    {
     "name": "stderr",
     "output_type": "stream",
     "text": [
      "WARNING:matplotlib.font_manager:Matplotlib is building the font cache; this may take a moment.\n"
     ]
    },
    {
     "data": {
      "text/plain": [
       "[<matplotlib.lines.Line2D at 0x17985d520>]"
      ]
     },
     "execution_count": 21,
     "metadata": {},
     "output_type": "execute_result"
    },
    {
     "data": {
      "image/png": "[encoded data removed]",
      "text/plain": [
       "<Figure size 640x480 with 1 Axes>"
      ]
     },
     "metadata": {},
     "output_type": "display_data"
    }
   ],
   "source": [
    "import matplotlib.pyplot as plt\n",
    "\n",
    "chart = plt.subplot2grid((3, 2), (0, 0), rowspan=3, colspan=2)\n",
    "chart.plot(result.portfolio.index, result.portfolio['market_value'])"
   ]
  },
  {
   "cell_type": "code",
   "execution_count": null,
   "metadata": {},
   "outputs": [],
   "source": []
  }
 ],
 "metadata": {
  "kernelspec": {
   "display_name": "quant",
   "language": "python",
   "name": "python3"
  },
  "language_info": {
   "codemirror_mode": {
    "name": "ipython",
    "version": 3
   },
   "file_extension": ".py",
   "mimetype": "text/x-python",
   "name": "python",
   "nbconvert_exporter": "python",
   "pygments_lexer": "ipython3",
   "version": "3.12.7"
  }
 },
 "nbformat": 4,
 "nbformat_minor": 2
}
