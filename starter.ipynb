{
 "cells": [
  {
   "cell_type": "markdown",
   "metadata": {},
   "source": [
    "## 获取日K数据"
   ]
  },
  {
   "cell_type": "code",
   "execution_count": 1,
   "metadata": {},
   "outputs": [
    {
     "name": "stderr",
     "output_type": "stream",
     "text": [
      "/var/folders/cz/lx1g11xn1pzfdkhxsm2k_2g40000gn/T/ipykernel_86787/1743636007.py:4: SettingWithCopyWarning: \n",
      "A value is trying to be set on a copy of a slice from a DataFrame\n",
      "\n",
      "See the caveats in the documentation: https://pandas.pydata.org/pandas-docs/stable/user_guide/indexing.html#returning-a-view-versus-a-copy\n",
      "  daily_pd.sort_values(by=\"datetime\",inplace=True)\n"
     ]
    },
    {
     "data": {
      "text/html": [
       "<div>\n",
       "<style scoped>\n",
       "    .dataframe tbody tr th:only-of-type {\n",
       "        vertical-align: middle;\n",
       "    }\n",
       "\n",
       "    .dataframe tbody tr th {\n",
       "        vertical-align: top;\n",
       "    }\n",
       "\n",
       "    .dataframe thead th {\n",
       "        text-align: right;\n",
       "    }\n",
       "</style>\n",
       "<table border=\"1\" class=\"dataframe\">\n",
       "  <thead>\n",
       "    <tr style=\"text-align: right;\">\n",
       "      <th></th>\n",
       "      <th>timestamp</th>\n",
       "      <th>datetime</th>\n",
       "      <th>symbol</th>\n",
       "      <th>name</th>\n",
       "      <th>open</th>\n",
       "      <th>high</th>\n",
       "      <th>low</th>\n",
       "      <th>close</th>\n",
       "      <th>preClose</th>\n",
       "      <th>volume</th>\n",
       "      <th>amount</th>\n",
       "      <th>suspendFlag</th>\n",
       "    </tr>\n",
       "  </thead>\n",
       "  <tbody>\n",
       "    <tr>\n",
       "      <th>977190</th>\n",
       "      <td>1734537600000</td>\n",
       "      <td>2024-12-19 00:00:00</td>\n",
       "      <td>002385.SZ</td>\n",
       "      <td>大北农</td>\n",
       "      <td>4.45</td>\n",
       "      <td>4.46</td>\n",
       "      <td>4.38</td>\n",
       "      <td>4.44</td>\n",
       "      <td>4.46</td>\n",
       "      <td>519035</td>\n",
       "      <td>229142441.0</td>\n",
       "      <td>0</td>\n",
       "    </tr>\n",
       "    <tr>\n",
       "      <th>977191</th>\n",
       "      <td>1734624000000</td>\n",
       "      <td>2024-12-20 00:00:00</td>\n",
       "      <td>002385.SZ</td>\n",
       "      <td>大北农</td>\n",
       "      <td>4.43</td>\n",
       "      <td>4.47</td>\n",
       "      <td>4.40</td>\n",
       "      <td>4.42</td>\n",
       "      <td>4.44</td>\n",
       "      <td>454148</td>\n",
       "      <td>200865845.0</td>\n",
       "      <td>0</td>\n",
       "    </tr>\n",
       "    <tr>\n",
       "      <th>977192</th>\n",
       "      <td>1734883200000</td>\n",
       "      <td>2024-12-23 00:00:00</td>\n",
       "      <td>002385.SZ</td>\n",
       "      <td>大北农</td>\n",
       "      <td>4.42</td>\n",
       "      <td>4.43</td>\n",
       "      <td>4.31</td>\n",
       "      <td>4.31</td>\n",
       "      <td>4.42</td>\n",
       "      <td>537942</td>\n",
       "      <td>234249708.0</td>\n",
       "      <td>0</td>\n",
       "    </tr>\n",
       "    <tr>\n",
       "      <th>1424717</th>\n",
       "      <td>1734969600000</td>\n",
       "      <td>2024-12-24 00:00:00</td>\n",
       "      <td>002385.SZ</td>\n",
       "      <td>大北农</td>\n",
       "      <td>4.31</td>\n",
       "      <td>4.36</td>\n",
       "      <td>4.31</td>\n",
       "      <td>4.35</td>\n",
       "      <td>4.31</td>\n",
       "      <td>336052</td>\n",
       "      <td>145792725.0</td>\n",
       "      <td>0</td>\n",
       "    </tr>\n",
       "    <tr>\n",
       "      <th>5223058</th>\n",
       "      <td>1735056000000</td>\n",
       "      <td>2024-12-25 00:00:00</td>\n",
       "      <td>002385.SZ</td>\n",
       "      <td>大北农</td>\n",
       "      <td>4.35</td>\n",
       "      <td>4.36</td>\n",
       "      <td>4.25</td>\n",
       "      <td>4.29</td>\n",
       "      <td>4.35</td>\n",
       "      <td>368029</td>\n",
       "      <td>157594515.0</td>\n",
       "      <td>0</td>\n",
       "    </tr>\n",
       "  </tbody>\n",
       "</table>\n",
       "</div>"
      ],
      "text/plain": [
       "             timestamp             datetime     symbol name  open  high   low  \\\n",
       "977190   1734537600000  2024-12-19 00:00:00  002385.SZ  大北农  4.45  4.46  4.38   \n",
       "977191   1734624000000  2024-12-20 00:00:00  002385.SZ  大北农  4.43  4.47  4.40   \n",
       "977192   1734883200000  2024-12-23 00:00:00  002385.SZ  大北农  4.42  4.43  4.31   \n",
       "1424717  1734969600000  2024-12-24 00:00:00  002385.SZ  大北农  4.31  4.36  4.31   \n",
       "5223058  1735056000000  2024-12-25 00:00:00  002385.SZ  大北农  4.35  4.36  4.25   \n",
       "\n",
       "         close  preClose  volume       amount  suspendFlag  \n",
       "977190    4.44      4.46  519035  229142441.0            0  \n",
       "977191    4.42      4.44  454148  200865845.0            0  \n",
       "977192    4.31      4.42  537942  234249708.0            0  \n",
       "1424717   4.35      4.31  336052  145792725.0            0  \n",
       "5223058   4.29      4.35  368029  157594515.0            0  "
      ]
     },
     "execution_count": 1,
     "metadata": {},
     "output_type": "execute_result"
    }
   ],
   "source": [
    "from utils import get_daily_data\n",
    "\n",
    "daily_pd, adjustment_pd = get_daily_data(\"002385\")\n",
    "daily_pd.sort_values(by=\"datetime\",inplace=True)\n",
    "daily_pd.tail()"
   ]
  },
  {
   "cell_type": "markdown",
   "metadata": {},
   "source": [
    "## 获取前复权数据"
   ]
  },
  {
   "cell_type": "code",
   "execution_count": 2,
   "metadata": {},
   "outputs": [
    {
     "data": {
      "text/html": [
       "<div>\n",
       "<style scoped>\n",
       "    .dataframe tbody tr th:only-of-type {\n",
       "        vertical-align: middle;\n",
       "    }\n",
       "\n",
       "    .dataframe tbody tr th {\n",
       "        vertical-align: top;\n",
       "    }\n",
       "\n",
       "    .dataframe thead th {\n",
       "        text-align: right;\n",
       "    }\n",
       "</style>\n",
       "<table border=\"1\" class=\"dataframe\">\n",
       "  <thead>\n",
       "    <tr style=\"text-align: right;\">\n",
       "      <th></th>\n",
       "      <th>datetime</th>\n",
       "      <th>symbol</th>\n",
       "      <th>name</th>\n",
       "      <th>open</th>\n",
       "      <th>high</th>\n",
       "      <th>low</th>\n",
       "      <th>close</th>\n",
       "      <th>volume</th>\n",
       "      <th>amount</th>\n",
       "      <th>suspendFlag</th>\n",
       "    </tr>\n",
       "  </thead>\n",
       "  <tbody>\n",
       "    <tr>\n",
       "      <th>235</th>\n",
       "      <td>2024-12-23 00:00:00</td>\n",
       "      <td>002385.SZ</td>\n",
       "      <td>大北农</td>\n",
       "      <td>4.42</td>\n",
       "      <td>4.43</td>\n",
       "      <td>4.31</td>\n",
       "      <td>4.31</td>\n",
       "      <td>537942</td>\n",
       "      <td>234249708.0</td>\n",
       "      <td>0</td>\n",
       "    </tr>\n",
       "    <tr>\n",
       "      <th>236</th>\n",
       "      <td>2024-12-24 00:00:00</td>\n",
       "      <td>002385.SZ</td>\n",
       "      <td>大北农</td>\n",
       "      <td>4.31</td>\n",
       "      <td>4.36</td>\n",
       "      <td>4.31</td>\n",
       "      <td>4.35</td>\n",
       "      <td>336052</td>\n",
       "      <td>145792725.0</td>\n",
       "      <td>0</td>\n",
       "    </tr>\n",
       "    <tr>\n",
       "      <th>964</th>\n",
       "      <td>2024-12-25 00:00:00</td>\n",
       "      <td>002385.SZ</td>\n",
       "      <td>大北农</td>\n",
       "      <td>4.35</td>\n",
       "      <td>4.36</td>\n",
       "      <td>4.25</td>\n",
       "      <td>4.29</td>\n",
       "      <td>368029</td>\n",
       "      <td>157594515.0</td>\n",
       "      <td>0</td>\n",
       "    </tr>\n",
       "  </tbody>\n",
       "</table>\n",
       "</div>"
      ],
      "text/plain": [
       "                datetime     symbol name  open  high   low  close  volume  \\\n",
       "235  2024-12-23 00:00:00  002385.SZ  大北农  4.42  4.43  4.31   4.31  537942   \n",
       "236  2024-12-24 00:00:00  002385.SZ  大北农  4.31  4.36  4.31   4.35  336052   \n",
       "964  2024-12-25 00:00:00  002385.SZ  大北农  4.35  4.36  4.25   4.29  368029   \n",
       "\n",
       "          amount  suspendFlag  \n",
       "235  234249708.0            0  \n",
       "236  145792725.0            0  \n",
       "964  157594515.0            0  "
      ]
     },
     "execution_count": 2,
     "metadata": {},
     "output_type": "execute_result"
    }
   ],
   "source": [
    "from utils import get_forward_data\n",
    "data_pd = get_forward_data(\"002385\")\n",
    "\n",
    "data_pd.tail(3)"
   ]
  },
  {
   "cell_type": "markdown",
   "metadata": {},
   "source": [
    "## 计算指标"
   ]
  },
  {
   "cell_type": "markdown",
   "metadata": {},
   "source": [
    "计算指标放在`indicator`目录下"
   ]
  },
  {
   "cell_type": "code",
   "execution_count": 3,
   "metadata": {},
   "outputs": [
    {
     "data": {
      "text/html": [
       "<div>\n",
       "<style scoped>\n",
       "    .dataframe tbody tr th:only-of-type {\n",
       "        vertical-align: middle;\n",
       "    }\n",
       "\n",
       "    .dataframe tbody tr th {\n",
       "        vertical-align: top;\n",
       "    }\n",
       "\n",
       "    .dataframe thead th {\n",
       "        text-align: right;\n",
       "    }\n",
       "</style>\n",
       "<table border=\"1\" class=\"dataframe\">\n",
       "  <thead>\n",
       "    <tr style=\"text-align: right;\">\n",
       "      <th></th>\n",
       "      <th>datetime</th>\n",
       "      <th>symbol</th>\n",
       "      <th>name</th>\n",
       "      <th>open</th>\n",
       "      <th>high</th>\n",
       "      <th>low</th>\n",
       "      <th>close</th>\n",
       "      <th>volume</th>\n",
       "      <th>amount</th>\n",
       "      <th>kdj_k</th>\n",
       "      <th>kdj_d</th>\n",
       "      <th>kdj_j</th>\n",
       "    </tr>\n",
       "  </thead>\n",
       "  <tbody>\n",
       "    <tr>\n",
       "      <th>235</th>\n",
       "      <td>2024-12-23 00:00:00</td>\n",
       "      <td>002385.SZ</td>\n",
       "      <td>大北农</td>\n",
       "      <td>4.42</td>\n",
       "      <td>4.43</td>\n",
       "      <td>4.31</td>\n",
       "      <td>4.31</td>\n",
       "      <td>537942</td>\n",
       "      <td>234249708.0</td>\n",
       "      <td>15.250921</td>\n",
       "      <td>31.742700</td>\n",
       "      <td>-17.732637</td>\n",
       "    </tr>\n",
       "    <tr>\n",
       "      <th>236</th>\n",
       "      <td>2024-12-24 00:00:00</td>\n",
       "      <td>002385.SZ</td>\n",
       "      <td>大北农</td>\n",
       "      <td>4.31</td>\n",
       "      <td>4.36</td>\n",
       "      <td>4.31</td>\n",
       "      <td>4.35</td>\n",
       "      <td>336052</td>\n",
       "      <td>145792725.0</td>\n",
       "      <td>12.888369</td>\n",
       "      <td>25.457923</td>\n",
       "      <td>-12.250739</td>\n",
       "    </tr>\n",
       "    <tr>\n",
       "      <th>964</th>\n",
       "      <td>2024-12-25 00:00:00</td>\n",
       "      <td>002385.SZ</td>\n",
       "      <td>大北农</td>\n",
       "      <td>4.35</td>\n",
       "      <td>4.36</td>\n",
       "      <td>4.25</td>\n",
       "      <td>4.29</td>\n",
       "      <td>368029</td>\n",
       "      <td>157594515.0</td>\n",
       "      <td>11.061382</td>\n",
       "      <td>20.659076</td>\n",
       "      <td>-8.134006</td>\n",
       "    </tr>\n",
       "  </tbody>\n",
       "</table>\n",
       "</div>"
      ],
      "text/plain": [
       "                datetime     symbol name  open  high   low  close  volume  \\\n",
       "235  2024-12-23 00:00:00  002385.SZ  大北农  4.42  4.43  4.31   4.31  537942   \n",
       "236  2024-12-24 00:00:00  002385.SZ  大北农  4.31  4.36  4.31   4.35  336052   \n",
       "964  2024-12-25 00:00:00  002385.SZ  大北农  4.35  4.36  4.25   4.29  368029   \n",
       "\n",
       "          amount      kdj_k      kdj_d      kdj_j  \n",
       "235  234249708.0  15.250921  31.742700 -17.732637  \n",
       "236  145792725.0  12.888369  25.457923 -12.250739  \n",
       "964  157594515.0  11.061382  20.659076  -8.134006  "
      ]
     },
     "execution_count": 3,
     "metadata": {},
     "output_type": "execute_result"
    }
   ],
   "source": [
    "from utils import get_forward_data\n",
    "from indicator import KDJ\n",
    "\n",
    "data_pd = get_forward_data(\"002385\")\n",
    "\n",
    "# 删除停牌数据\n",
    "data_pd = data_pd[data_pd['suspendFlag'] == 0]\n",
    "data_pd.drop(columns='suspendFlag', inplace=True)\n",
    "\n",
    "data_pd['kdj_k'], data_pd['kdj_d'], data_pd['kdj_j'] = KDJ(data_pd.close,data_pd.high, data_pd.low)\n",
    "\n",
    "data_pd.tail(3)"
   ]
  },
  {
   "cell_type": "markdown",
   "metadata": {},
   "source": [
    "## 回测"
   ]
  },
  {
   "cell_type": "code",
   "execution_count": 1,
   "metadata": {},
   "outputs": [
    {
     "data": {
      "text/html": [
       "<div>\n",
       "<style scoped>\n",
       "    .dataframe tbody tr th:only-of-type {\n",
       "        vertical-align: middle;\n",
       "    }\n",
       "\n",
       "    .dataframe tbody tr th {\n",
       "        vertical-align: top;\n",
       "    }\n",
       "\n",
       "    .dataframe thead th {\n",
       "        text-align: right;\n",
       "    }\n",
       "</style>\n",
       "<table border=\"1\" class=\"dataframe\">\n",
       "  <thead>\n",
       "    <tr style=\"text-align: right;\">\n",
       "      <th></th>\n",
       "      <th>datetime</th>\n",
       "      <th>symbol</th>\n",
       "      <th>name</th>\n",
       "      <th>open</th>\n",
       "      <th>high</th>\n",
       "      <th>low</th>\n",
       "      <th>close</th>\n",
       "      <th>volume</th>\n",
       "      <th>amount</th>\n",
       "      <th>kdj_k</th>\n",
       "      <th>kdj_d</th>\n",
       "      <th>kdj_j</th>\n",
       "    </tr>\n",
       "  </thead>\n",
       "  <tbody>\n",
       "    <tr>\n",
       "      <th>235</th>\n",
       "      <td>2024-12-23 00:00:00</td>\n",
       "      <td>002385.SZ</td>\n",
       "      <td>大北农</td>\n",
       "      <td>4.42</td>\n",
       "      <td>4.43</td>\n",
       "      <td>4.31</td>\n",
       "      <td>4.31</td>\n",
       "      <td>537942</td>\n",
       "      <td>234249708.0</td>\n",
       "      <td>15.250921</td>\n",
       "      <td>31.742700</td>\n",
       "      <td>-17.732637</td>\n",
       "    </tr>\n",
       "    <tr>\n",
       "      <th>236</th>\n",
       "      <td>2024-12-24 00:00:00</td>\n",
       "      <td>002385.SZ</td>\n",
       "      <td>大北农</td>\n",
       "      <td>4.31</td>\n",
       "      <td>4.36</td>\n",
       "      <td>4.31</td>\n",
       "      <td>4.35</td>\n",
       "      <td>336052</td>\n",
       "      <td>145792725.0</td>\n",
       "      <td>12.888369</td>\n",
       "      <td>25.457923</td>\n",
       "      <td>-12.250739</td>\n",
       "    </tr>\n",
       "    <tr>\n",
       "      <th>964</th>\n",
       "      <td>2024-12-25 00:00:00</td>\n",
       "      <td>002385.SZ</td>\n",
       "      <td>大北农</td>\n",
       "      <td>4.35</td>\n",
       "      <td>4.36</td>\n",
       "      <td>4.25</td>\n",
       "      <td>4.29</td>\n",
       "      <td>368029</td>\n",
       "      <td>157594515.0</td>\n",
       "      <td>11.061382</td>\n",
       "      <td>20.659076</td>\n",
       "      <td>-8.134006</td>\n",
       "    </tr>\n",
       "  </tbody>\n",
       "</table>\n",
       "</div>"
      ],
      "text/plain": [
       "                datetime     symbol name  open  high   low  close  volume  \\\n",
       "235  2024-12-23 00:00:00  002385.SZ  大北农  4.42  4.43  4.31   4.31  537942   \n",
       "236  2024-12-24 00:00:00  002385.SZ  大北农  4.31  4.36  4.31   4.35  336052   \n",
       "964  2024-12-25 00:00:00  002385.SZ  大北农  4.35  4.36  4.25   4.29  368029   \n",
       "\n",
       "          amount      kdj_k      kdj_d      kdj_j  \n",
       "235  234249708.0  15.250921  31.742700 -17.732637  \n",
       "236  145792725.0  12.888369  25.457923 -12.250739  \n",
       "964  157594515.0  11.061382  20.659076  -8.134006  "
      ]
     },
     "execution_count": 1,
     "metadata": {},
     "output_type": "execute_result"
    }
   ],
   "source": [
    "from utils import get_forward_data\n",
    "from indicator import MACD, KDJ\n",
    "import pandas as pd\n",
    "\n",
    "\n",
    "data_pd = get_forward_data(\"002385\")\n",
    "\n",
    "# 删除停牌数据\n",
    "data_pd = data_pd[data_pd['suspendFlag'] == 0]\n",
    "data_pd.drop(columns='suspendFlag', inplace=True)\n",
    "\n",
    "data_pd['kdj_k'], data_pd['kdj_d'], data_pd['kdj_j'] = KDJ(data_pd.close,data_pd.high, data_pd.low)\n",
    "\n",
    "data_pd.tail(3)"
   ]
  },
  {
   "cell_type": "markdown",
   "metadata": {},
   "source": [
    "### 使用pybroker进行回测\n",
    "\n",
    "[文档](https://www.pybroker.com/zh-cn/latest/install.html)"
   ]
  },
  {
   "cell_type": "code",
   "execution_count": 2,
   "metadata": {},
   "outputs": [],
   "source": [
    "import pybroker\n",
    "from pybroker import Strategy,StrategyConfig"
   ]
  },
  {
   "cell_type": "code",
   "execution_count": 3,
   "metadata": {},
   "outputs": [],
   "source": [
    "data_pd['date'] = pd.to_datetime(data_pd['datetime'],format='ISO8601')\n",
    "\n",
    "# 注册指标到pybroker\n",
    "pybroker.register_columns([\"kdj_k\",\"kdj_d\",\"kdj_j\"])\n",
    "\n",
    "# 初始化资金:50000元\n",
    "config = StrategyConfig(initial_cash=50000)\n",
    "\n",
    "strategy = Strategy(data_pd, '4/1/2021', '09/12/2024',config=config)"
   ]
  },
  {
   "cell_type": "markdown",
   "metadata": {},
   "source": [
    "#### 定义策略函数"
   ]
  },
  {
   "cell_type": "code",
   "execution_count": 5,
   "metadata": {},
   "outputs": [],
   "source": [
    "def kdj_over_boughtsold_strategy(ctx):\n",
    "    \"\"\"策略:kdj超买超卖\n",
    "    当%K值大于80时，市场可能处于超买状态；当%K值小于20时，市场可能处于超卖状态。\n",
    "    \n",
    "    该策略缺点：k值可能很长时间没有超过80,导致持仓太久，硬扛亏损\n",
    "    \"\"\"\n",
    "    if ctx.bars < 20:\n",
    "        return\n",
    "    \n",
    "    pos = ctx.long_pos()\n",
    "    k = ctx.kdj_k\n",
    "\n",
    "    # 超买超卖信号\n",
    "    overbought = k[-1] > 80\n",
    "    oversold = k[-1] < 20\n",
    "\n",
    "    # k 值大于80 抛空\n",
    "    if pos and overbought :\n",
    "        ctx.sell_shares = pos.shares\n",
    "    # k值小于20 做多两成仓位\n",
    "    elif oversold:\n",
    "        ctx.buy_shares = ctx.calc_target_shares(0.2)"
   ]
  },
  {
   "cell_type": "code",
   "execution_count": 6,
   "metadata": {},
   "outputs": [],
   "source": [
    "# 注册策略到pybroker\n",
    "strategy.add_execution(kdj_over_boughtsold_strategy, ['002385.SZ'])"
   ]
  },
  {
   "cell_type": "code",
   "execution_count": 7,
   "metadata": {},
   "outputs": [
    {
     "name": "stdout",
     "output_type": "stream",
     "text": [
      "Backtesting: 2021-04-01 00:00:00 to 2024-09-12 00:00:00\n",
      "\n",
      "Test split: 2021-04-01 00:00:00 to 2024-09-12 00:00:00\n"
     ]
    },
    {
     "name": "stderr",
     "output_type": "stream",
     "text": [
      "  0% (0 of 840) |                        | Elapsed Time: 0:00:00 ETA:  --:--:--\n",
      " 58% (491 of 840) |############          | Elapsed Time: 0:00:00 ETA:   0:00:00\n",
      "100% (840 of 840) |######################| Elapsed Time: 0:00:00 Time:  0:00:00\n"
     ]
    },
    {
     "name": "stdout",
     "output_type": "stream",
     "text": [
      "\n",
      "Finished backtest: 0:00:01\n"
     ]
    }
   ],
   "source": [
    "# 回测\n",
    "result = strategy.backtest()"
   ]
  },
  {
   "cell_type": "code",
   "execution_count": 8,
   "metadata": {},
   "outputs": [
    {
     "data": {
      "text/plain": [
       "[<matplotlib.lines.Line2D at 0x3ab937ce0>]"
      ]
     },
     "execution_count": 8,
     "metadata": {},
     "output_type": "execute_result"
    },
    {
     "data": {
      "image/png": "[encoded data removed]",
      "text/plain": [
       "<Figure size 640x480 with 1 Axes>"
      ]
     },
     "metadata": {},
     "output_type": "display_data"
    }
   ],
   "source": [
    "import matplotlib.pyplot as plt\n",
    "\n",
    "chart = plt.subplot2grid((3, 2), (0, 0), rowspan=3, colspan=2)\n",
    "chart.plot(result.portfolio.index, result.portfolio['market_value'])"
   ]
  },
  {
   "cell_type": "code",
   "execution_count": null,
   "metadata": {},
   "outputs": [],
   "source": []
  }
 ],
 "metadata": {
  "kernelspec": {
   "display_name": "quant",
   "language": "python",
   "name": "python3"
  },
  "language_info": {
   "codemirror_mode": {
    "name": "ipython",
    "version": 3
   },
   "file_extension": ".py",
   "mimetype": "text/x-python",
   "name": "python",
   "nbconvert_exporter": "python",
   "pygments_lexer": "ipython3",
   "version": "3.12.7"
  }
 },
 "nbformat": 4,
 "nbformat_minor": 2
}
